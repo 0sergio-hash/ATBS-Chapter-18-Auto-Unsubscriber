{
 "cells": [
  {
   "cell_type": "markdown",
   "metadata": {},
   "source": [
    "# [Instructions for this project](https://automatetheboringstuff.com/2e/chapter18/)"
   ]
  },
  {
   "cell_type": "markdown",
   "metadata": {},
   "source": [
    "I tested this on an inbox with 3 promotional emails I forwarded to it. There should have been 2 unsub links, but one was in a u tag I believe. Still, this could be useful in most cases."
   ]
  },
  {
   "cell_type": "code",
   "execution_count": 1,
   "metadata": {},
   "outputs": [],
   "source": [
    "# Practice project: Auto Unsubscriber\n",
    "\n",
    "# Import libraries\n",
    "import imapclient, imaplib, pyzmail, bs4, webbrowser, pyinputplus as pyip\n",
    "\n",
    "# Connect to email\n",
    "imapObj = imapclient.IMAPClient('imap.gmail.com', ssl=True)\n",
    "\n",
    "EMAIL = pyip.inputStr(prompt = 'Enter email address: ')\n",
    "PASSWORD = pyip.inputStr(prompt = 'Enter password: ')\n",
    "\n",
    "imapObj.login(EMAIL, PASSWORD)\n",
    "\n",
    "imaplib._MAXLINE = 10000000\n",
    "\n",
    "# Download emails\n",
    "imapObj.select_folder('INBOX', readonly=True)\n",
    "UIDs = imapObj.search(['ALL'])\n",
    "rawMessages = imapObj.fetch(UIDs, ['BODY[]'])\n",
    "\n",
    "# Add message HTMLs to a list\n",
    "\n",
    "messageHtmlList = []\n",
    "for i in rawMessages:\n",
    "    message = pyzmail.PyzMessage.factory(rawMessages[i][b'BODY[]'])\n",
    "    if message.html_part != None:\n",
    "        messageHtml = message.html_part.get_payload().decode(message.html_part.charset)\n",
    "        messageHtmlList.append(messageHtml)\n",
    "        \n",
    "# Scan for unsubscribe\n",
    "unSubLinkList = []\n",
    "\n",
    "for messageHtml in messageHtmlList:\n",
    "    soup = bs4.BeautifulSoup(messageHtml,'html.parser')\n",
    "    linkTag = soup.find(\"a\",string = 'unsubscribe')\n",
    "    \n",
    "    if linkTag != None:\n",
    "        unSubLink = linkTag['href']\n",
    "        unSubLinkList.append(unSubLink)        \n",
    "        \n",
    "# Open links\n",
    "for link in unSubLinkList:\n",
    "    webbrowser.open(link)"
   ]
  }
 ],
 "metadata": {
  "kernelspec": {
   "display_name": "ibm_project",
   "language": "python",
   "name": "ibm_project"
  },
  "language_info": {
   "codemirror_mode": {
    "name": "ipython",
    "version": 3
   },
   "file_extension": ".py",
   "mimetype": "text/x-python",
   "name": "python",
   "nbconvert_exporter": "python",
   "pygments_lexer": "ipython3",
   "version": "3.7.9"
  }
 },
 "nbformat": 4,
 "nbformat_minor": 4
}
